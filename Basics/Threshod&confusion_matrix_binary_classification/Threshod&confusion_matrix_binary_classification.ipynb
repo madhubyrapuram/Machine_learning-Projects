{
 "cells": [
  {
   "cell_type": "markdown",
   "metadata": {},
   "source": [
    "#### This program shows how to find best threshhold value\n",
    "\n",
    "The diabetes dataset is taken from [ Kaggle.com]."
   ]
  },
  {
   "cell_type": "code",
   "execution_count": 70,
   "metadata": {},
   "outputs": [],
   "source": [
    "# reading data\n",
    "import pandas as pd\n",
    "from sklearn.model_selection import train_test_split\n",
    "\n",
    "df = pd.read_csv(\"heartdata.csv\")\n",
    "df.head()\n",
    "\n",
    "#seperating target feature from data set\n",
    "survived=df.target\n",
    "inputs=df.drop('target',axis='columns')\n",
    "\n",
    "#splitting data into train and test\n",
    "\n",
    "X_train, X_test, y_train, y_test = train_test_split(inputs,survived,test_size=0.2)"
   ]
  },
  {
   "cell_type": "code",
   "execution_count": 71,
   "metadata": {},
   "outputs": [],
   "source": [
    "from sklearn.metrics import roc_curve\n",
    "from sklearn.metrics import roc_auc_score"
   ]
  },
  {
   "cell_type": "code",
   "execution_count": 84,
   "metadata": {},
   "outputs": [
    {
     "name": "stdout",
     "output_type": "stream",
     "text": [
      "RF train roc-auc: 1.0\n",
      "RF test roc-auc: 0.8868131868131868\n"
     ]
    }
   ],
   "source": [
    "#predicting roc-auc for tain and test data\n",
    "\n",
    "from sklearn.ensemble import RandomForestClassifier\n",
    "model = RandomForestClassifier(n_estimators=30)\n",
    "model.fit(X_train, y_train)\n",
    "y_predicted = model.predict(X_test)\n",
    "#df2=pd.Series(model.predict_proba(X_test)[:,1])\n",
    "y_predicted_train=model.predict_proba(X_train)\n",
    "y_predicted_test=model.predict_proba(X_test)\n",
    "print('RF train roc-auc: {}'.format(roc_auc_score(y_train, y_predicted_train[:,1])))\n",
    "print('RF test roc-auc: {}'.format(roc_auc_score(y_test, y_predicted_test[:,1])))"
   ]
  },
  {
   "cell_type": "code",
   "execution_count": 73,
   "metadata": {},
   "outputs": [
    {
     "data": {
      "text/plain": [
       "array([[0.7       , 0.3       ],\n",
       "       [0.26666667, 0.73333333],\n",
       "       [0.43333333, 0.56666667],\n",
       "       [0.33333333, 0.66666667],\n",
       "       [0.1       , 0.9       ],\n",
       "       [0.06666667, 0.93333333],\n",
       "       [0.03333333, 0.96666667],\n",
       "       [1.        , 0.        ],\n",
       "       [0.76666667, 0.23333333],\n",
       "       [0.83333333, 0.16666667],\n",
       "       [0.03333333, 0.96666667],\n",
       "       [0.93333333, 0.06666667],\n",
       "       [0.83333333, 0.16666667],\n",
       "       [0.3       , 0.7       ],\n",
       "       [0.36666667, 0.63333333],\n",
       "       [0.1       , 0.9       ],\n",
       "       [0.33333333, 0.66666667],\n",
       "       [0.83333333, 0.16666667],\n",
       "       [0.16666667, 0.83333333],\n",
       "       [0.93333333, 0.06666667],\n",
       "       [0.46666667, 0.53333333],\n",
       "       [0.83333333, 0.16666667],\n",
       "       [0.9       , 0.1       ],\n",
       "       [0.33333333, 0.66666667],\n",
       "       [0.56666667, 0.43333333],\n",
       "       [0.4       , 0.6       ],\n",
       "       [0.96666667, 0.03333333],\n",
       "       [0.33333333, 0.66666667],\n",
       "       [0.86666667, 0.13333333],\n",
       "       [0.03333333, 0.96666667],\n",
       "       [0.96666667, 0.03333333],\n",
       "       [1.        , 0.        ],\n",
       "       [0.6       , 0.4       ],\n",
       "       [0.66666667, 0.33333333],\n",
       "       [0.43333333, 0.56666667],\n",
       "       [0.16666667, 0.83333333],\n",
       "       [0.16666667, 0.83333333],\n",
       "       [0.66666667, 0.33333333],\n",
       "       [0.06666667, 0.93333333],\n",
       "       [0.36666667, 0.63333333],\n",
       "       [0.4       , 0.6       ],\n",
       "       [0.5       , 0.5       ],\n",
       "       [0.03333333, 0.96666667],\n",
       "       [0.96666667, 0.03333333],\n",
       "       [0.9       , 0.1       ],\n",
       "       [0.53333333, 0.46666667],\n",
       "       [0.93333333, 0.06666667],\n",
       "       [0.33333333, 0.66666667],\n",
       "       [0.16666667, 0.83333333],\n",
       "       [0.46666667, 0.53333333],\n",
       "       [0.4       , 0.6       ],\n",
       "       [0.        , 1.        ],\n",
       "       [0.06666667, 0.93333333],\n",
       "       [0.56666667, 0.43333333],\n",
       "       [0.23333333, 0.76666667],\n",
       "       [0.03333333, 0.96666667],\n",
       "       [0.8       , 0.2       ],\n",
       "       [0.86666667, 0.13333333],\n",
       "       [0.3       , 0.7       ],\n",
       "       [0.46666667, 0.53333333],\n",
       "       [0.13333333, 0.86666667]])"
      ]
     },
     "execution_count": 73,
     "metadata": {},
     "output_type": "execute_result"
    }
   ],
   "source": [
    "#gives probability of a target feature \n",
    "\n",
    "y_predicted_test"
   ]
  },
  {
   "cell_type": "code",
   "execution_count": 74,
   "metadata": {},
   "outputs": [
    {
     "data": {
      "text/plain": [
       "0     0.300000\n",
       "1     0.733333\n",
       "2     0.566667\n",
       "3     0.666667\n",
       "4     0.900000\n",
       "        ...   \n",
       "56    0.200000\n",
       "57    0.133333\n",
       "58    0.700000\n",
       "59    0.533333\n",
       "60    0.866667\n",
       "Length: 61, dtype: float64"
      ]
     },
     "execution_count": 74,
     "metadata": {},
     "output_type": "execute_result"
    }
   ],
   "source": [
    "#gives probability of a target feature true prediction\n",
    "pd.Series(y_predicted_test[:,1])"
   ]
  },
  {
   "cell_type": "code",
   "execution_count": 75,
   "metadata": {},
   "outputs": [
    {
     "data": {
      "text/plain": [
       "array([2.        , 1.        , 0.96666667, 0.93333333, 0.9       ,\n",
       "       0.86666667, 0.83333333, 0.73333333, 0.7       , 0.66666667,\n",
       "       0.63333333, 0.6       , 0.56666667, 0.53333333, 0.5       ,\n",
       "       0.46666667, 0.43333333, 0.4       , 0.33333333, 0.3       ,\n",
       "       0.2       , 0.16666667, 0.13333333, 0.1       , 0.03333333,\n",
       "       0.        ])"
      ]
     },
     "execution_count": 75,
     "metadata": {},
     "output_type": "execute_result"
    }
   ],
   "source": [
    "#### Calculate the False positive rate,True positive rate and threshlods\n",
    "\n",
    "fpr, tpr, thresholds = roc_curve(y_test, pd.Series(y_predicted_test[:,1]))\n",
    "thresholds"
   ]
  },
  {
   "cell_type": "code",
   "execution_count": 76,
   "metadata": {},
   "outputs": [
    {
     "data": {
      "text/html": [
       "<div>\n",
       "<style scoped>\n",
       "    .dataframe tbody tr th:only-of-type {\n",
       "        vertical-align: middle;\n",
       "    }\n",
       "\n",
       "    .dataframe tbody tr th {\n",
       "        vertical-align: top;\n",
       "    }\n",
       "\n",
       "    .dataframe thead th {\n",
       "        text-align: right;\n",
       "    }\n",
       "</style>\n",
       "<table border=\"1\" class=\"dataframe\">\n",
       "  <thead>\n",
       "    <tr style=\"text-align: right;\">\n",
       "      <th></th>\n",
       "      <th>thresholds</th>\n",
       "      <th>accuracy</th>\n",
       "    </tr>\n",
       "  </thead>\n",
       "  <tbody>\n",
       "    <tr>\n",
       "      <th>21</th>\n",
       "      <td>0.166667</td>\n",
       "      <td>0.639344</td>\n",
       "    </tr>\n",
       "    <tr>\n",
       "      <th>24</th>\n",
       "      <td>0.033333</td>\n",
       "      <td>0.622951</td>\n",
       "    </tr>\n",
       "    <tr>\n",
       "      <th>23</th>\n",
       "      <td>0.100000</td>\n",
       "      <td>0.622951</td>\n",
       "    </tr>\n",
       "    <tr>\n",
       "      <th>22</th>\n",
       "      <td>0.133333</td>\n",
       "      <td>0.622951</td>\n",
       "    </tr>\n",
       "    <tr>\n",
       "      <th>20</th>\n",
       "      <td>0.200000</td>\n",
       "      <td>0.622951</td>\n",
       "    </tr>\n",
       "  </tbody>\n",
       "</table>\n",
       "</div>"
      ],
      "text/plain": [
       "    thresholds  accuracy\n",
       "21    0.166667  0.639344\n",
       "24    0.033333  0.622951\n",
       "23    0.100000  0.622951\n",
       "22    0.133333  0.622951\n",
       "20    0.200000  0.622951"
      ]
     },
     "execution_count": 76,
     "metadata": {},
     "output_type": "execute_result"
    }
   ],
   "source": [
    "import numpy as np\n",
    "from sklearn.metrics import accuracy_score\n",
    "\n",
    "#Gives highesht threhold value\n",
    "accuracy_ls = []\n",
    "for thres in thresholds:\n",
    "    y_pred = np.where(df2>thres,1,0)\n",
    "    accuracy_ls.append(accuracy_score(y_test, y_pred, normalize=True))\n",
    "\n",
    "#concatenate threhold and accuracy\n",
    "accuracy_ls = pd.concat([pd.Series(thresholds), pd.Series(accuracy_ls)],\n",
    "                        axis=1)\n",
    "accuracy_ls.columns = ['thresholds', 'accuracy']\n",
    "\n",
    "#sorts theshold and accuracy in descending order\n",
    "accuracy_ls.sort_values(by='accuracy', ascending=False, inplace=True)\n",
    "accuracy_ls.head()"
   ]
  },
  {
   "cell_type": "code",
   "execution_count": 77,
   "metadata": {},
   "outputs": [],
   "source": [
    "import matplotlib.pyplot as plt\n",
    "def plot_roc_curve(fpr, tpr):\n",
    "    plt.plot(fpr, tpr, color='orange', label='ROC')\n",
    "    plt.plot([0, 1], [0, 1], color='darkblue', linestyle='--')\n",
    "    plt.xlabel('False Positive Rate')\n",
    "    plt.ylabel('True Positive Rate')\n",
    "    plt.title('Receiver Operating Characteristic (ROC) Curve')\n",
    "    #plt.legend()\n",
    "    plt.show()"
   ]
  },
  {
   "cell_type": "code",
   "execution_count": 78,
   "metadata": {},
   "outputs": [
    {
     "data": {
      "image/png": "[encoded data removed]",
      "text/plain": [
       "<Figure size 432x288 with 1 Axes>"
      ]
     },
     "metadata": {
      "needs_background": "light"
     },
     "output_type": "display_data"
    }
   ],
   "source": [
    "#plotting roc curve\n",
    "plot_roc_curve(fpr,tpr)"
   ]
  },
  {
   "cell_type": "code",
   "execution_count": 79,
   "metadata": {},
   "outputs": [
    {
     "data": {
      "text/plain": [
       "array([[21,  5],\n",
       "       [ 5, 30]], dtype=int64)"
      ]
     },
     "execution_count": 79,
     "metadata": {},
     "output_type": "execute_result"
    }
   ],
   "source": [
    "from sklearn.metrics import confusion_matrix\n",
    "cm = confusion_matrix(y_test,y_predicted)\n",
    "cm"
   ]
  },
  {
   "cell_type": "code",
   "execution_count": 69,
   "metadata": {},
   "outputs": [
    {
     "data": {
      "text/plain": [
       "Text(69.0, 0.5, 'Truth')"
      ]
     },
     "execution_count": 69,
     "metadata": {},
     "output_type": "execute_result"
    },
    {
     "data": {
      "image/png": "[encoded data removed]",
      "text/plain": [
       "<Figure size 720x504 with 2 Axes>"
      ]
     },
     "metadata": {
      "needs_background": "light"
     },
     "output_type": "display_data"
    }
   ],
   "source": [
    "import matplotlib.pyplot as plt\n",
    "import seaborn as sns\n",
    "plt.figure(figsize=(10,7))\n",
    "sns.heatmap(cm,annot=True)\n",
    "plt.xlabel('Predicted')\n",
    "plt.ylabel('Truth')"
   ]
  }
 ],
 "metadata": {
  "kernelspec": {
   "display_name": "Python 3",
   "language": "python",
   "name": "python3"
  },
  "language_info": {
   "codemirror_mode": {
    "name": "ipython",
    "version": 3
   },
   "file_extension": ".py",
   "mimetype": "text/x-python",
   "name": "python",
   "nbconvert_exporter": "python",
   "pygments_lexer": "ipython3",
   "version": "3.7.6"
  }
 },
 "nbformat": 4,
 "nbformat_minor": 2
}
